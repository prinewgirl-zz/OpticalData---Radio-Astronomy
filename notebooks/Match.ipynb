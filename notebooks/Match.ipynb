{
 "cells": [
  {
   "cell_type": "code",
   "execution_count": 8,
   "metadata": {},
   "outputs": [],
   "source": [
    "from astropy.table import Table, join, hstack, vstack\n",
    "from esutil import htm\n",
    "import numpy as np\n",
    "import random\n",
    "import sys\n",
    "import os\n"
   ]
  },
  {
   "cell_type": "code",
   "execution_count": 9,
   "metadata": {},
   "outputs": [],
   "source": [
    "def match(cat_1, cat_2, column_1, column_2, column_3, column_4,error):\n",
    "    h = htm.HTM(depth=10)\n",
    "    m1, m2, d12 = h.match(np.array(cat_1[column_1]), \n",
    "                          np.array(cat_1[column_3]),\n",
    "                          np.array(cat_2[column_2]), \n",
    "                          np.array(cat_2[column_4]),\n",
    "                          error, maxmatch=1)\n",
    "    \n",
    "    submatched = cat_1[m1]\n",
    "    manmatched = cat_2[m2]\n",
    "    matched = hstack([submatched, manmatched])\n",
    "      \n",
    "    return matched\n",
    "\n",
    "def match_tables(table, path_dir, path_new, col1, col2, col3, col4, error):\n",
    "    for i,filename in enumerate(os.listdir(path_dir)):\n",
    "        file_ = Table.read(os.path.join(path_dir,filename))\n",
    "        data = match(table, file_,col1,col2,col3,col4,error)\n",
    "        if len(data) != 0:\n",
    "            if 'random' not in data.columns:\n",
    "                data.add_column(1.5, name = 'random')\n",
    "            for i in range(0, len(data)):\n",
    "                data[i]['random'] = np.random.random()\n",
    "            filename = 'match_' + filename\n",
    "        data.write(os.path.join(path_new,filename))\n",
    "    return None\n"
   ]
  },
  {
   "cell_type": "code",
   "execution_count": 10,
   "metadata": {},
   "outputs": [],
   "source": [
    "def gluetable(path_dir, final_dest):\n",
    "    tables = []\n",
    "    for i,filename in enumerate(os.listdir(path_dir)):\n",
    "        tables.append(Table.read(os.path.join(path_dir,filename)))\n",
    "    table = vstack(tables)\n",
    "    table.write(final_dest, overwrite = True)\n",
    "    return table"
   ]
  },
  {
   "cell_type": "markdown",
   "metadata": {},
   "source": [
    "## GAMA x InputCatA xPS1"
   ]
  },
  {
   "cell_type": "code",
   "execution_count": 4,
   "metadata": {},
   "outputs": [],
   "source": [
    "ps1 = '/home/priscila/devel/mestrado/ps1/64'\n",
    "gama = Table.read('/home/priscila/devel/mestrado/gama.fits')\n",
    "inputcat = Table.read('/home/priscila/devel/mestrado/InputCatA.fits')\n",
    "new_dir = '/home/priscila/devel/mestrado/resultados/ps1gama'\n",
    "final_dir = '/home/priscila/devel/mestrado/resultados/ps1gamacat'\n",
    "#match_tables(gama,ps1, new_dir, 'RA','raMean','DEC','decMean', 0.00028)\n",
    "#match_tables(inputcat, new_dir,final_dir, 'RA','RA','DEC','DEC', 0.00001)\n"
   ]
  },
  {
   "cell_type": "markdown",
   "metadata": {},
   "source": [
    "## GAMA x G02InputCatA x PS1"
   ]
  },
  {
   "cell_type": "code",
   "execution_count": 5,
   "metadata": {},
   "outputs": [],
   "source": [
    "ps1 = '/home/priscila/devel/mestrado/ps1/64'\n",
    "gama = Table.read('/home/priscila/devel/mestrado/gama.fits')\n",
    "inputcatg02 = Table.read('/home/priscila/devel/mestrado/G02SDSSInputCat.fits')\n",
    "new_dir = '/home/priscila/devel/mestrado/resultados/ps1gama'\n",
    "final_dir = '/home/priscila/devel/mestrado/resultados/ps1gamag02cat'\n",
    "#match_tables(gama,ps1, new_dir, 'RA','raMean','DEC','decMean', 0.00028)\n",
    "#match_tables(inputcatg02, new_dir,final_dir, 'RA','RA','DEC','DEC', 0.000001)"
   ]
  },
  {
   "cell_type": "markdown",
   "metadata": {},
   "source": [
    "## Junta as tabelas"
   ]
  },
  {
   "cell_type": "code",
   "execution_count": 11,
   "metadata": {},
   "outputs": [
    {
     "name": "stderr",
     "output_type": "stream",
     "text": [
      "WARNING: AstropyDeprecationWarning: Specified hdu=/home/priscila/devel/mestrado/resultados/CROSS_MATCH_FINAL.fits not found, reading in first available table (hdu=1) instead. This will result in an error in future versions! [astropy.io.fits.connect]\n"
     ]
    },
    {
     "ename": "TypeError",
     "evalue": "listdir: path should be string, bytes, os.PathLike, integer or None, not Table",
     "output_type": "error",
     "traceback": [
      "\u001b[0;31m---------------------------------------------------------------------------\u001b[0m",
      "\u001b[0;31mTypeError\u001b[0m                                 Traceback (most recent call last)",
      "\u001b[0;32m<ipython-input-11-c3cab7eacc72>\u001b[0m in \u001b[0;36m<module>\u001b[0;34m\u001b[0m\n\u001b[0;32m----> 1\u001b[0;31m \u001b[0mgluetable\u001b[0m\u001b[0;34m(\u001b[0m\u001b[0mTable\u001b[0m\u001b[0;34m.\u001b[0m\u001b[0mread\u001b[0m\u001b[0;34m(\u001b[0m\u001b[0;34m'/home/priscila/devel/mestrado/resultados/PS1_CROSS_GAMA_CROSS_INPUTCATA.fits'\u001b[0m\u001b[0;34m)\u001b[0m\u001b[0;34m,\u001b[0m\u001b[0mTable\u001b[0m\u001b[0;34m.\u001b[0m\u001b[0mread\u001b[0m\u001b[0;34m(\u001b[0m\u001b[0;34m'/home/priscila/devel/mestrado/resultados/PS1_CROSS_GAMA_CROSS_G02INPUTCAT.fits'\u001b[0m\u001b[0;34m,\u001b[0m \u001b[0;34m'/home/priscila/devel/mestrado/resultados/CROSS_MATCH_FINAL.fits'\u001b[0m\u001b[0;34m)\u001b[0m\u001b[0;34m)\u001b[0m\u001b[0;34m\u001b[0m\u001b[0;34m\u001b[0m\u001b[0m\n\u001b[0m",
      "\u001b[0;32m<ipython-input-10-bfffbdc348b9>\u001b[0m in \u001b[0;36mgluetable\u001b[0;34m(path_dir, final_dest)\u001b[0m\n\u001b[1;32m      1\u001b[0m \u001b[0;32mdef\u001b[0m \u001b[0mgluetable\u001b[0m\u001b[0;34m(\u001b[0m\u001b[0mpath_dir\u001b[0m\u001b[0;34m,\u001b[0m \u001b[0mfinal_dest\u001b[0m\u001b[0;34m)\u001b[0m\u001b[0;34m:\u001b[0m\u001b[0;34m\u001b[0m\u001b[0;34m\u001b[0m\u001b[0m\n\u001b[1;32m      2\u001b[0m     \u001b[0mtables\u001b[0m \u001b[0;34m=\u001b[0m \u001b[0;34m[\u001b[0m\u001b[0;34m]\u001b[0m\u001b[0;34m\u001b[0m\u001b[0;34m\u001b[0m\u001b[0m\n\u001b[0;32m----> 3\u001b[0;31m     \u001b[0;32mfor\u001b[0m \u001b[0mi\u001b[0m\u001b[0;34m,\u001b[0m\u001b[0mfilename\u001b[0m \u001b[0;32min\u001b[0m \u001b[0menumerate\u001b[0m\u001b[0;34m(\u001b[0m\u001b[0mos\u001b[0m\u001b[0;34m.\u001b[0m\u001b[0mlistdir\u001b[0m\u001b[0;34m(\u001b[0m\u001b[0mpath_dir\u001b[0m\u001b[0;34m)\u001b[0m\u001b[0;34m)\u001b[0m\u001b[0;34m:\u001b[0m\u001b[0;34m\u001b[0m\u001b[0;34m\u001b[0m\u001b[0m\n\u001b[0m\u001b[1;32m      4\u001b[0m         \u001b[0mtables\u001b[0m\u001b[0;34m.\u001b[0m\u001b[0mappend\u001b[0m\u001b[0;34m(\u001b[0m\u001b[0mTable\u001b[0m\u001b[0;34m.\u001b[0m\u001b[0mread\u001b[0m\u001b[0;34m(\u001b[0m\u001b[0mos\u001b[0m\u001b[0;34m.\u001b[0m\u001b[0mpath\u001b[0m\u001b[0;34m.\u001b[0m\u001b[0mjoin\u001b[0m\u001b[0;34m(\u001b[0m\u001b[0mpath_dir\u001b[0m\u001b[0;34m,\u001b[0m\u001b[0mfilename\u001b[0m\u001b[0;34m)\u001b[0m\u001b[0;34m)\u001b[0m\u001b[0;34m)\u001b[0m\u001b[0;34m\u001b[0m\u001b[0;34m\u001b[0m\u001b[0m\n\u001b[1;32m      5\u001b[0m     \u001b[0mtable\u001b[0m \u001b[0;34m=\u001b[0m \u001b[0mvstack\u001b[0m\u001b[0;34m(\u001b[0m\u001b[0mtables\u001b[0m\u001b[0;34m)\u001b[0m\u001b[0;34m\u001b[0m\u001b[0;34m\u001b[0m\u001b[0m\n",
      "\u001b[0;31mTypeError\u001b[0m: listdir: path should be string, bytes, os.PathLike, integer or None, not Table"
     ]
    }
   ],
   "source": [
    "gluetable(Table.read('/home/priscila/devel/mestrado/resultados/PS1_CROSS_GAMA_CROSS_INPUTCATA.fits'),Table.read('/home/priscila/devel/mestrado/resultados/PS1_CROSS_GAMA_CROSS_G02INPUTCAT.fits', '/home/priscila/devel/mestrado/resultados/CROSS_MATCH_FINAL.fits'))\n"
   ]
  },
  {
   "cell_type": "markdown",
   "metadata": {},
   "source": [
    "## GAMA x INPUTCAT"
   ]
  },
  {
   "cell_type": "code",
   "execution_count": 16,
   "metadata": {},
   "outputs": [
    {
     "data": {
      "text/plain": [
       "<TableColumns names=('OBJID','RA','DEC','flags','flags_r','type','rowc','colc','fiberMag_r','psfMag_u','psfMag_g','psfMag_r','psfMag_i','psfMag_z','psfMagErr_u','psfMagErr_g','psfMagErr_r','psfMagErr_i','psfMagErr_z','petroMag_u','petroMag_g','petroMag_r','petroMag_i','petroMag_z','petroMagErr_u','petroMagErr_g','petroMagErr_r','petroMagErr_i','petroMagErr_z','modelMag_u','modelMag_g','modelMag_r','modelMag_i','modelMag_z','modelMagErr_u','modelMagErr_g','modelMagErr_r','modelMagErr_i','modelMagErr_z','extinction_u','extinction_g','extinction_r','extinction_i','extinction_z')>"
      ]
     },
     "execution_count": 16,
     "metadata": {},
     "output_type": "execute_result"
    }
   ],
   "source": [
    "inputcatg02.columns\n"
   ]
  },
  {
   "cell_type": "markdown",
   "metadata": {},
   "source": [
    "## GAMA x G02INPUTCAT"
   ]
  },
  {
   "cell_type": "code",
   "execution_count": null,
   "metadata": {},
   "outputs": [],
   "source": [
    "tab1 = match(gama, inputcat, 'RA','RA','DEC','DEC', 0000000.1)"
   ]
  },
  {
   "cell_type": "code",
   "execution_count": 6,
   "metadata": {},
   "outputs": [],
   "source": [
    "table= Table.read('/home/priscila/devel/mestrado/resultados/ps1_2.fits')"
   ]
  },
  {
   "cell_type": "code",
   "execution_count": null,
   "metadata": {},
   "outputs": [],
   "source": []
  },
  {
   "cell_type": "code",
   "execution_count": null,
   "metadata": {},
   "outputs": [],
   "source": [
    "gluetable('')"
   ]
  }
 ],
 "metadata": {
  "kernelspec": {
   "display_name": "Python 3",
   "language": "python",
   "name": "python3"
  },
  "language_info": {
   "codemirror_mode": {
    "name": "ipython",
    "version": 3
   },
   "file_extension": ".py",
   "mimetype": "text/x-python",
   "name": "python",
   "nbconvert_exporter": "python",
   "pygments_lexer": "ipython3",
   "version": "3.8.5"
  }
 },
 "nbformat": 4,
 "nbformat_minor": 4
}
